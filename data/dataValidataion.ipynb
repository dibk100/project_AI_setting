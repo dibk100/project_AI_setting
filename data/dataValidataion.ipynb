{
 "cells": [
  {
   "cell_type": "markdown",
   "id": "513183c4",
   "metadata": {},
   "source": [
    "## AI-HUB 데이터 확인"
   ]
  },
  {
   "cell_type": "code",
   "execution_count": 1,
   "id": "64d5d68f",
   "metadata": {},
   "outputs": [
    {
     "name": "stdout",
     "output_type": "stream",
     "text": [
      "📄 총 JSON 파일 수: 2700\n",
      "🆔 유니크한 JSON 파일 이름 수: 2700\n"
     ]
    }
   ],
   "source": [
    "import os\n",
    "from glob import glob\n",
    "\n",
    "# 1. 모든 json 파일 경로 수집 (재귀적으로)\n",
    "json_paths = glob('./data_validation/meta_json/**/*.json', recursive=True)\n",
    "\n",
    "# 2. 파일 이름만 추출 (중복 제거용)\n",
    "json_filenames = set(os.path.basename(path) for path in json_paths)\n",
    "\n",
    "# 3. 개수 출력\n",
    "print(f\"📄 총 JSON 파일 수: {len(json_paths)}\")\n",
    "print(f\"🆔 유니크한 JSON 파일 이름 수: {len(json_filenames)}\")\n"
   ]
  },
  {
   "cell_type": "markdown",
   "id": "2efc9e96",
   "metadata": {},
   "source": [
    "### step01 : json(메타)과 실제 데이터 확인"
   ]
  },
  {
   "cell_type": "code",
   "execution_count": 2,
   "id": "ba59dbe0",
   "metadata": {},
   "outputs": [],
   "source": [
    "import json\n",
    "from glob import glob\n",
    "import os\n",
    "import pandas as pd\n",
    "\n",
    "# JSON 파일 경로 수집\n",
    "json_paths = glob('./data_validation/meta_json/**/*.json', recursive=True)\n",
    "\n",
    "records = []\n",
    "\n",
    "for path in json_paths:\n",
    "    with open(path, 'r', encoding='utf-8') as f:\n",
    "        data = json.load(f)\n",
    "        \n",
    "        # 안전한 접근을 위한 get\n",
    "        meta = data.get('metadata', {})\n",
    "        animal = meta.get('animal', {})\n",
    "        owner = meta.get('owner', {})\n",
    "        inspect = meta.get('inspect', {})\n",
    "\n",
    "        records.append({\n",
    "            \"json_file\": os.path.basename(path),\n",
    "            \"breed\": animal.get(\"breed\"),\n",
    "            \"cat_action\": inspect.get(\"action\"),\n",
    "            \"cat_emotion\": inspect.get(\"emotion\"),\n",
    "            \"owner_situation\": owner.get(\"situation\"),\n",
    "            \"owner_emotion\": owner.get(\"emotion\"),\n",
    "            # \"seq\": meta.get(\"seq\"),\n",
    "            \"freams_anotations\" : len(data['annotations']),\n",
    "        })\n",
    "\n",
    "# DataFrame 변환\n",
    "df = pd.DataFrame(records)\n"
   ]
  },
  {
   "cell_type": "code",
   "execution_count": 3,
   "id": "9f250d23",
   "metadata": {},
   "outputs": [
    {
     "name": "stdout",
     "output_type": "stream",
     "text": [
      "                  json_file    breed cat_action cat_emotion  \\\n",
      "0  cat-grooming-052361.json  코리안 숏헤어   그루밍하는 동작       편안/안정   \n",
      "1  cat-grooming-044680.json  코리안 숏헤어   그루밍하는 동작       편안/안정   \n",
      "2  cat-grooming-025736.json     페르시안   그루밍하는 동작       편안/안정   \n",
      "3  cat-grooming-028194.json     스노우슈   그루밍하는 동작       편안/안정   \n",
      "4  cat-grooming-053718.json    노르웨이숲   그루밍하는 동작       편안/안정   \n",
      "\n",
      "                        owner_situation owner_emotion  freams_anotations  \n",
      "0  휴식시간, 자신만의 공간에 들어갔을 때(캔넬, 소파 침대 밑 등)         편안/안정                 79  \n",
      "1                       산책 준비 또는 산책중일 때        행복/즐거움                 81  \n",
      "2                     잠들기 전이나 같이 누워있을 때         편안/안정                 93  \n",
      "3                                    기타        행복/즐거움                 99  \n",
      "4                                    기타         편안/안정                114  \n"
     ]
    }
   ],
   "source": [
    "# 미리보기\n",
    "print(df.head())"
   ]
  },
  {
   "cell_type": "code",
   "execution_count": 4,
   "id": "ba4b88d2",
   "metadata": {},
   "outputs": [],
   "source": [
    "import os\n",
    "import pandas as pd\n",
    "from glob import glob\n",
    "\n",
    "# # 메타데이터 파일 로딩\n",
    "# df = pd.read_csv(\"your_meta_file.csv\")  # <\n",
    "\n",
    "# 루트 경로\n",
    "base_path = \"./data_validation/test_image\"\n",
    "\n",
    "# 결과를 저장할 리스트\n",
    "found_list = []\n",
    "frame_count_list = []\n",
    "file_path_list = []\n",
    "\n",
    "# 각 json_file에 대해 처리\n",
    "for json_file in df['json_file']:\n",
    "    folder_name = json_file.replace(\".json\", \"\")  # → cat-grooming-XXXXX\n",
    "    found = False\n",
    "    frame_count = 0\n",
    "    found_path = None  # 폴더 경로 저장용\n",
    "\n",
    "    # data_image/*/ 하위 폴더 탐색\n",
    "    for action_dir in os.listdir(base_path):\n",
    "        action_path = os.path.join(base_path, action_dir)\n",
    "\n",
    "        # 디렉토리인지 확인\n",
    "        if not os.path.isdir(action_path):\n",
    "            continue\n",
    "\n",
    "        target_path = os.path.join(action_path, folder_name)\n",
    "        if os.path.isdir(target_path):\n",
    "            found = True\n",
    "            frame_files = glob(os.path.join(target_path, \"*.jpg\"))\n",
    "            frame_count = len(frame_files)\n",
    "            found_path = target_path  # 경로 저장\n",
    "            break  # 찾았으면 중단\n",
    "\n",
    "    found_list.append(found)\n",
    "    frame_count_list.append(frame_count)\n",
    "    file_path_list.append(found_path if found else None)\n",
    "\n",
    "# 결과 추가\n",
    "df[\"folder_found\"] = found_list\n",
    "df[\"frame_count_checked\"] = frame_count_list\n",
    "df[\"file_path\"] = file_path_list\n",
    "\n",
    "# 출력 예시\n",
    "# print(df[[\"json_file\", \"folder_found\", \"frame_count_checked\", \"file_path\"]].head())"
   ]
  },
  {
   "cell_type": "code",
   "execution_count": 5,
   "id": "068e9a10",
   "metadata": {},
   "outputs": [
    {
     "name": "stdout",
     "output_type": "stream",
     "text": [
      "✅ 폴더가 존재하는 항목 (True):\n",
      "                                 json_file  frame_count_checked\n",
      "0                 cat-grooming-052361.json                   79\n",
      "1                 cat-grooming-044680.json                   81\n",
      "2                 cat-grooming-025736.json                   93\n",
      "3                 cat-grooming-028194.json                   99\n",
      "4                 cat-grooming-053718.json                  114\n",
      "...                                    ...                  ...\n",
      "2695               cat-getdown-017805.json                   84\n",
      "2696               cat-getdown-066894.json                   80\n",
      "2697               cat-getdown-040955.json                   63\n",
      "2698  20201201_cat-getdown-009528.mp4.json                   88\n",
      "2699               cat-getdown-037813.json                   88\n",
      "\n",
      "[2700 rows x 2 columns]\n"
     ]
    }
   ],
   "source": [
    "df_true = df[df[\"folder_found\"] == True]\n",
    "print(\"✅ 폴더가 존재하는 항목 (True):\")\n",
    "print(df_true[[\"json_file\", \"frame_count_checked\"]])"
   ]
  },
  {
   "cell_type": "code",
   "execution_count": 6,
   "id": "80ee239d",
   "metadata": {},
   "outputs": [
    {
     "name": "stdout",
     "output_type": "stream",
     "text": [
      "❌ 폴더가 없는 항목 (False):\n",
      "Empty DataFrame\n",
      "Columns: [json_file]\n",
      "Index: []\n"
     ]
    }
   ],
   "source": [
    "df_false = df[df[\"folder_found\"] == False]\n",
    "print(\"❌ 폴더가 없는 항목 (False):\")\n",
    "print(df_false[[\"json_file\"]])"
   ]
  },
  {
   "cell_type": "markdown",
   "id": "7f685501",
   "metadata": {},
   "source": [
    "---"
   ]
  },
  {
   "cell_type": "markdown",
   "id": "41767324",
   "metadata": {},
   "source": [
    "## Step02 : 매핑"
   ]
  },
  {
   "cell_type": "code",
   "execution_count": 7,
   "id": "7233bd70",
   "metadata": {},
   "outputs": [
    {
     "data": {
      "text/plain": [
       "count    2700.00000\n",
       "mean       99.24000\n",
       "std        20.48396\n",
       "min        15.00000\n",
       "25%        84.00000\n",
       "50%        95.00000\n",
       "75%       110.00000\n",
       "max       174.00000\n",
       "Name: frame_count_checked, dtype: float64"
      ]
     },
     "execution_count": 7,
     "metadata": {},
     "output_type": "execute_result"
    }
   ],
   "source": [
    "df[\"frame_count_checked\"].describe()"
   ]
  },
  {
   "cell_type": "code",
   "execution_count": 8,
   "id": "25f446e6",
   "metadata": {},
   "outputs": [
    {
     "name": "stdout",
     "output_type": "stream",
     "text": [
      "🎯 cat_action 라벨 분포:\n",
      "cat_action\n",
      "그루밍하는 동작             638\n",
      "꼬리를 흔드는 동작           386\n",
      "앞발을 뻗어 휘적거리는 동작      368\n",
      "걷거나 달리는 동작           306\n",
      "옆으로 눕는 동작            213\n",
      "발을 숨기고 웅크리고 앉는 동작    183\n",
      "납작 엎드리는 동작           134\n",
      "머리를 들이대는 동작          109\n",
      "배를 보여주는 동작           104\n",
      "앞발로 꾹꾹 누르는 동작         97\n",
      "좌우로 뒹구는 동작            84\n",
      "허리를 아치로 세우는 동작        23\n",
      "걷거나 뛰는 동작             17\n",
      "배를 보이는 동작             11\n",
      "그루밍함                  10\n",
      "납작 엎드림                 5\n",
      "옆으로 누워 있음              4\n",
      "꼬리를 흔든다                3\n",
      "배를 보임                  3\n",
      "팔을 뻗어 휘적거림             1\n",
      "발을 숨기고 웅크리고 앉음         1\n",
      "Name: count, dtype: int64\n"
     ]
    }
   ],
   "source": [
    "print(\"🎯 cat_action 라벨 분포:\")\n",
    "print(df[\"cat_action\"].value_counts())"
   ]
  },
  {
   "cell_type": "code",
   "execution_count": 9,
   "id": "15d5fdd6",
   "metadata": {},
   "outputs": [
    {
     "name": "stdout",
     "output_type": "stream",
     "text": [
      "😊 cat_emotion 라벨 분포:\n",
      "cat_emotion\n",
      "편안/안정     1935\n",
      "행복/즐거움     495\n",
      "공격성        146\n",
      "화남/불쾌       80\n",
      "불안/슬픔       36\n",
      "공포           8\n",
      "Name: count, dtype: int64\n"
     ]
    }
   ],
   "source": [
    "print(\"😊 cat_emotion 라벨 분포:\")\n",
    "print(df[\"cat_emotion\"].value_counts())\n",
    "\n",
    "# >> 불안/슬픔 + 공포로 라벨 합치기\n",
    "# 6개에서 5개"
   ]
  },
  {
   "cell_type": "code",
   "execution_count": 10,
   "id": "64b8cdd1",
   "metadata": {},
   "outputs": [
    {
     "name": "stdout",
     "output_type": "stream",
     "text": [
      "🏠 owner_situation 라벨 분포:\n",
      "owner_situation\n",
      "먹을것, 장난감이 앞에 있을 때                       658\n",
      "기타                                      612\n",
      "휴식시간, 자신만의 공간에 들어갔을 때(캔넬, 소파 침대 밑 등)    570\n",
      "잠들기 전이나 같이 누워있을 때                       348\n",
      "편안히 쓰다듬어 줄 때                            174\n",
      "보호자가 집에 돌아왔을 때                          127\n",
      "산책이나 노즈워크 중                              56\n",
      "싫어하는 부위를 만질 때                            33\n",
      "산책 준비 또는 산책중일 때                          17\n",
      "밥그릇, 장난감과 같은 소유물을 만질 때                   17\n",
      "다른 사람이나 동물을 만났을 때                        17\n",
      "낯선 소리가 나거나 낯선 사람을 봤을 때                   15\n",
      "낯선 동물 또는 사람을 만났을 때                       13\n",
      "빗질/발톱깍기/목욕 등 위생관리를 할 때                    9\n",
      "낯선 장소에 있거나 낯선 소리가 날 때                     8\n",
      "다른 동물을 보거나 낯선 사람을 만날 때 산책 나왔을 때           5\n",
      "낯선 소리가 났을 때                               4\n",
      "목욕하거나 싫어하는 부위를 만질 때                       3\n",
      "다른 동물을 보거나 낯선 사람을 만날 때                    3\n",
      "혼날 때                                      3\n",
      "보호자와 떨어질 때/혼자 남겨지거나 낯선장소에 있을 때            3\n",
      "목욕할 때                                     1\n",
      "초인종 소리가 났을 때                              1\n",
      "산책 나왔을 때                                  1\n",
      "보호자에게 혼났을 때                               1\n",
      "낯선 도구를 자신의 몸에 사용할 때(미용도구 등)               1\n",
      "Name: count, dtype: int64\n"
     ]
    }
   ],
   "source": [
    "print(\"🏠 owner_situation 라벨 분포:\")\n",
    "print(df[\"owner_situation\"].value_counts())"
   ]
  },
  {
   "cell_type": "code",
   "execution_count": 11,
   "id": "2feb56e9",
   "metadata": {},
   "outputs": [
    {
     "name": "stdout",
     "output_type": "stream",
     "text": [
      "cat_action의 유니크 라벨 수: 21\n",
      "cat_emotion의 유니크 라벨 수: 6\n",
      "owner_situation의 유니크 라벨 수: 26\n"
     ]
    }
   ],
   "source": [
    "unique_count_action = df[\"cat_action\"].nunique()\n",
    "unique_count_emotion = df[\"cat_emotion\"].nunique()\n",
    "unique_count_situation = df[\"owner_situation\"].nunique()\n",
    "\n",
    "print(\"cat_action의 유니크 라벨 수:\", unique_count_action)\n",
    "print(\"cat_emotion의 유니크 라벨 수:\", unique_count_emotion)\n",
    "print(\"owner_situation의 유니크 라벨 수:\", unique_count_situation)"
   ]
  },
  {
   "cell_type": "code",
   "execution_count": 12,
   "id": "53e00f2b",
   "metadata": {},
   "outputs": [],
   "source": [
    "# 감정 통합 맵\n",
    "emotion_map = {\n",
    "    \"불안/슬픔\": \"불안/공포\",\n",
    "    \"공포\": \"불안/공포\",\n",
    "    \"공격성\" : \"공격성\",\n",
    "    \"편안/안정\" : \"편안/안정\",\n",
    "    \"행복/즐거움\" : \"행복/즐거움\",\n",
    "    \"화남/불쾌\" : \"화남/불쾌\",\n",
    "}\n",
    "\n",
    "action_map = {\n",
    "    \"걷거나 뜀\": \"걷거나 달리는 동작\",\n",
    "    \"걷거나 달리는 동작\": \"걷거나 달리는 동작\",\n",
    "\n",
    "    \"꼬리를 흔든다\": \"꼬리를 흔드는 동작\",\n",
    "    \"꼬리를 흔드는 동작\": \"꼬리를 흔드는 동작\",\n",
    "\n",
    "    \"납작 엎드림\": \"납작 엎드리는 동작\",\n",
    "    \"납작 엎드리는 동작\": \"납작 엎드리는 동작\",\n",
    "\n",
    "    \"배를 보임\": \"배를 보여주는 동작\",\n",
    "    \"배를 보여주는 동작\": \"배를 보여주는 동작\",\n",
    "\n",
    "    \"그루밍함\": \"그루밍하는 동작\",\n",
    "    \"그루밍하는 동작\": \"그루밍하는 동작\",\n",
    "\n",
    "    \"머리를 들이댐\": \"머리를 들이대는 동작\",\n",
    "    \"머리를 들이대는 동작\": \"머리를 들이대는 동작\",\n",
    "\n",
    "    \"발을 숨기고 웅크리고 앉음\": \"발을 숨기고 웅크리고 앉는 동작\",\n",
    "    \"발을 숨기고 웅크리고 앉는 동작\": \"발을 숨기고 웅크리고 앉는 동작\",\n",
    "\n",
    "    \"앞발로 꾹꾹 누름\": \"앞발로 꾹꾹 누르는 동작\",\n",
    "    \"앞발로 꾹꾹 누르는 동작\": \"앞발로 꾹꾹 누르는 동작\",\n",
    "\n",
    "    \"옆으로 누워 있음\": \"옆으로 눕는 동작\",\n",
    "    \"옆으로 눕는 동작\": \"옆으로 눕는 동작\",\n",
    "\n",
    "    \"좌우로 뒹굴음\": \"좌우로 뒹구는 동작\",\n",
    "    \"좌우로 뒹구는 동작\": \"좌우로 뒹구는 동작\",\n",
    "\n",
    "    \"팔을 뻗어 휘적거림\": \"팔을 뻗어 휘적거리는 동작\",\n",
    "    \"앞발을 뻗어 휘적거리는 동작\": \"팔을 뻗어 휘적거리는 동작\",\n",
    "\n",
    "    \"허리를 아치로 세움\": \"허리를 아치로 세우는 동작\",\n",
    "    \"허리를 아치로 세우는 동작\": \"허리를 아치로 세우는 동작\"\n",
    "        }\n",
    "\n",
    "owner_situation_map = {\n",
    "    # 🧸 놀이/자극 상황\n",
    "    \"먹을것, 장난감이 앞에 있을 때\": \"놀이/자극\",\n",
    "    \"밥그릇, 장난감과 같은 소유물을 만질 때\": \"놀이/자극\",\n",
    "    \"산책이나 노즈워크 중\": \"놀이/자극\",\n",
    "    \"산책 준비 또는 산책중일 때\": \"놀이/자극\",\n",
    "    \"다른 동물을 보거나 낯선 사람을 만날 때 산책 나왔을 때\": \"놀이/자극\",\n",
    "\n",
    "    # 😴 휴식/편안한 상황\n",
    "    \"휴식시간, 자신만의 공간에 들어갔을 때(캔넬, 소파 침대 밑 등)\": \"휴식/편안\",\n",
    "    \"잠들기 전이나 같이 누워있을 때\": \"휴식/편안\",\n",
    "    \"편안히 쓰다듬어 줄 때\": \"휴식/편안\",\n",
    "\n",
    "    # 👋 돌아옴/재회 상황\n",
    "    \"보호자가 집에 돌아왔을 때\": \"돌아옴/재회\",\n",
    "\n",
    "    # 🧼 위생관리\n",
    "    \"빗질/발톱깍기/목욕 등 위생관리를 할 때\": \"위생관리\",\n",
    "    \"목욕할 때\": \"위생관리\",\n",
    "    \"목욕하거나 싫어하는 부위를 만질 때\": \"위생관리\",\n",
    "\n",
    "    # 😾 싫은 자극/처벌\n",
    "    \"싫어하는 부위를 만질 때\": \"싫은 자극/처벌\",\n",
    "    \"보호자에게 혼났을 때\": \"싫은 자극/처벌\",\n",
    "    \"혼날 때\": \"싫은 자극/처벌\",\n",
    "\n",
    "    # 😨 낯선 상황/불안\n",
    "    \"낯선 소리가 나거나 낯선 사람을 봤을 때\": \"낯선 상황/불안\",\n",
    "    \"낯선 장소에 있거나 낯선 소리가 날 때\": \"낯선 상황/불안\",\n",
    "    \"낯선 소리가 났을 때\": \"낯선 상황/불안\",\n",
    "    \"낯선 동물 또는 사람을 만났을 때\": \"낯선 상황/불안\",\n",
    "    \"다른 사람이나 동물을 만났을 때\": \"낯선 상황/불안\",\n",
    "    \"낯선 도구를 자신의 몸에 사용할 때(미용도구 등)\": \"낯선 상황/불안\",\n",
    "    \"낯선 도구를 자신의 몸에 사용할 때(미용도구)\": \"낯선 상황/불안\",\n",
    "    \"초인종 소리가 났을 때\": \"낯선 상황/불안\",\n",
    "    \"다른 동물을 보거나 낯선 사람을 만날 때\" : \"낯선 상황/불안\",\n",
    "\n",
    "    # 😿 분리/고립\n",
    "    \"보호자와 떨어질 때/혼자 남겨지거나 낯선장소에 있을 때\": \"분리/고립\",\n",
    "    \"보호자와 떨어지거나 혼자 남겨졌을 때\": \"분리/고립\",\n",
    "    \n",
    "    \"기타\": \"기타\",\n",
    "}\n"
   ]
  },
  {
   "cell_type": "code",
   "execution_count": 13,
   "id": "b9d28d19",
   "metadata": {},
   "outputs": [],
   "source": [
    "df[\"owner_situation_mapped\"] = df[\"owner_situation\"].map(owner_situation_map)\n",
    "df[\"cat_emotion_mapped\"] = df[\"cat_emotion\"].map(emotion_map)\n",
    "df[\"cat_action_mapped\"] = df[\"cat_action\"].map(action_map)\n"
   ]
  },
  {
   "cell_type": "code",
   "execution_count": 14,
   "id": "36584ae4",
   "metadata": {},
   "outputs": [
    {
     "name": "stdout",
     "output_type": "stream",
     "text": [
      "🎯 cat_action 라벨 분포:\n",
      "cat_action_mapped\n",
      "그루밍하는 동작             648\n",
      "꼬리를 흔드는 동작           389\n",
      "팔을 뻗어 휘적거리는 동작       369\n",
      "걷거나 달리는 동작           306\n",
      "옆으로 눕는 동작            217\n",
      "발을 숨기고 웅크리고 앉는 동작    184\n",
      "납작 엎드리는 동작           139\n",
      "머리를 들이대는 동작          109\n",
      "배를 보여주는 동작           107\n",
      "앞발로 꾹꾹 누르는 동작         97\n",
      "좌우로 뒹구는 동작            84\n",
      "허리를 아치로 세우는 동작        23\n",
      "Name: count, dtype: int64\n",
      "🐱 cat_action_mapped 유니크 라벨 수: 12\n"
     ]
    }
   ],
   "source": [
    "print(\"🎯 cat_action 라벨 분포:\")\n",
    "unique_count = df[\"cat_action_mapped\"].nunique()\n",
    "\n",
    "print(df[\"cat_action_mapped\"].value_counts())\n",
    "print(\"🐱 cat_action_mapped 유니크 라벨 수:\", unique_count)"
   ]
  },
  {
   "cell_type": "code",
   "execution_count": 15,
   "id": "02853808",
   "metadata": {},
   "outputs": [
    {
     "name": "stdout",
     "output_type": "stream",
     "text": [
      "🎯 cat_emotion 라벨 분포:\n",
      "cat_emotion_mapped\n",
      "편안/안정     1935\n",
      "행복/즐거움     495\n",
      "공격성        146\n",
      "화남/불쾌       80\n",
      "불안/공포       44\n",
      "Name: count, dtype: int64\n",
      "🐱 cat_emotion_mapped 유니크 라벨 수: 5\n"
     ]
    }
   ],
   "source": [
    "print(\"🎯 cat_emotion 라벨 분포:\")\n",
    "unique_count = df[\"cat_emotion_mapped\"].nunique()\n",
    "\n",
    "print(df[\"cat_emotion_mapped\"].value_counts())\n",
    "print(\"🐱 cat_emotion_mapped 유니크 라벨 수:\", unique_count)"
   ]
  },
  {
   "cell_type": "code",
   "execution_count": 16,
   "id": "7eb7e8ce",
   "metadata": {},
   "outputs": [
    {
     "name": "stdout",
     "output_type": "stream",
     "text": [
      "🎯 owner_situation_mapped 라벨 분포:\n",
      "owner_situation_mapped\n",
      "휴식/편안       1092\n",
      "놀이/자극        753\n",
      "기타           612\n",
      "돌아옴/재회       127\n",
      "낯선 상황/불안      62\n",
      "싫은 자극/처벌      37\n",
      "위생관리          13\n",
      "분리/고립          3\n",
      "Name: count, dtype: int64\n",
      "🐱 owner_situation_mapped 유니크 라벨 수: 8\n"
     ]
    }
   ],
   "source": [
    "print(\"🎯 owner_situation_mapped 라벨 분포:\")\n",
    "unique_count = df[\"owner_situation_mapped\"].nunique()\n",
    "\n",
    "print(df[\"owner_situation_mapped\"].value_counts())\n",
    "print(\"🐱 owner_situation_mapped 유니크 라벨 수:\", unique_count)"
   ]
  },
  {
   "cell_type": "markdown",
   "id": "33739e2f",
   "metadata": {},
   "source": [
    "---"
   ]
  },
  {
   "cell_type": "code",
   "execution_count": 17,
   "id": "d1fe525d",
   "metadata": {},
   "outputs": [
    {
     "data": {
      "text/plain": [
       "0       ./data_validation/test_image/GROOMING/cat-groo...\n",
       "1       ./data_validation/test_image/GROOMING/cat-groo...\n",
       "2       ./data_validation/test_image/GROOMING/cat-groo...\n",
       "3       ./data_validation/test_image/GROOMING/cat-groo...\n",
       "4       ./data_validation/test_image/GROOMING/cat-groo...\n",
       "                              ...                        \n",
       "2695    ./data_validation/test_image/GETDOWN/cat-getdo...\n",
       "2696    ./data_validation/test_image/GETDOWN/cat-getdo...\n",
       "2697    ./data_validation/test_image/GETDOWN/cat-getdo...\n",
       "2698    ./data_validation/test_image/GETDOWN/20201201_...\n",
       "2699    ./data_validation/test_image/GETDOWN/cat-getdo...\n",
       "Name: file_path, Length: 2700, dtype: object"
      ]
     },
     "execution_count": 17,
     "metadata": {},
     "output_type": "execute_result"
    }
   ],
   "source": [
    "df.file_path"
   ]
  },
  {
   "cell_type": "code",
   "execution_count": 18,
   "id": "a372452b",
   "metadata": {},
   "outputs": [],
   "source": [
    "df['file_path'] = df['file_path'].str.replace('./data_validation/test_image/', '', regex=False)"
   ]
  },
  {
   "cell_type": "code",
   "execution_count": 19,
   "id": "f78f7ef7",
   "metadata": {},
   "outputs": [
    {
     "data": {
      "text/plain": [
       "0                  GROOMING/cat-grooming-052361\n",
       "1                  GROOMING/cat-grooming-044680\n",
       "2                  GROOMING/cat-grooming-025736\n",
       "3                  GROOMING/cat-grooming-028194\n",
       "4                  GROOMING/cat-grooming-053718\n",
       "                         ...                   \n",
       "2695                 GETDOWN/cat-getdown-017805\n",
       "2696                 GETDOWN/cat-getdown-066894\n",
       "2697                 GETDOWN/cat-getdown-040955\n",
       "2698    GETDOWN/20201201_cat-getdown-009528.mp4\n",
       "2699                 GETDOWN/cat-getdown-037813\n",
       "Name: file_path, Length: 2700, dtype: object"
      ]
     },
     "execution_count": 19,
     "metadata": {},
     "output_type": "execute_result"
    }
   ],
   "source": [
    "df.file_path"
   ]
  },
  {
   "cell_type": "code",
   "execution_count": 22,
   "id": "77cb32f3",
   "metadata": {},
   "outputs": [
    {
     "name": "stdout",
     "output_type": "stream",
     "text": [
      "                  meta_json                     file_path  number of frames  \\\n",
      "0  cat-grooming-052361.json  GROOMING/cat-grooming-052361                79   \n",
      "1  cat-grooming-044680.json  GROOMING/cat-grooming-044680                81   \n",
      "2  cat-grooming-025736.json  GROOMING/cat-grooming-025736                93   \n",
      "3  cat-grooming-028194.json  GROOMING/cat-grooming-028194                99   \n",
      "4  cat-grooming-053718.json  GROOMING/cat-grooming-053718               114   \n",
      "\n",
      "  cat_action cat_emotion owner_situation  \n",
      "0   그루밍하는 동작       편안/안정           휴식/편안  \n",
      "1   그루밍하는 동작       편안/안정           놀이/자극  \n",
      "2   그루밍하는 동작       편안/안정           휴식/편안  \n",
      "3   그루밍하는 동작       편안/안정              기타  \n",
      "4   그루밍하는 동작       편안/안정              기타  \n"
     ]
    }
   ],
   "source": [
    "# 사용할 칼럼 리스트\n",
    "cols = ['json_file', 'file_path', 'frame_count_checked', 'cat_action_mapped', 'cat_emotion_mapped', 'owner_situation_mapped']\n",
    "\n",
    "# 원하는 칼럼만 추출\n",
    "df_final = df[cols].copy()\n",
    "\n",
    "# 컬럼명 변경\n",
    "df_final.rename(columns={\n",
    "    'json_file': 'meta_json',\n",
    "    'frame_count_checked': 'number of frames',\n",
    "    'cat_action_mapped' : 'cat_action',\n",
    "    'cat_emotion_mapped': 'cat_emotion',\n",
    "    'owner_situation_mapped': 'owner_situation'\n",
    "}, inplace=True)\n",
    "\n",
    "# CSV 저장 (경로와 파일명 원하는 대로 수정)\n",
    "df_final.to_csv('./data_fin/test_dataset.csv', index=False)\n",
    "\n",
    "# 저장 확인 출력\n",
    "print(df_final.head())\n"
   ]
  },
  {
   "cell_type": "markdown",
   "id": "4c664534",
   "metadata": {},
   "source": [
    "### 확인용"
   ]
  },
  {
   "cell_type": "code",
   "execution_count": 23,
   "id": "c26d3813",
   "metadata": {},
   "outputs": [
    {
     "name": "stdout",
     "output_type": "stream",
     "text": [
      "== meta_json 개수 (전체 파일 수) ==\n",
      "2700\n",
      "\n",
      "== number of frames 통계 ==\n",
      "count    2700.00000\n",
      "mean       99.24000\n",
      "std        20.48396\n",
      "min        15.00000\n",
      "25%        84.00000\n",
      "50%        95.00000\n",
      "75%       110.00000\n",
      "max       174.00000\n",
      "Name: number of frames, dtype: float64\n",
      "\n",
      "== cat_action 분포 ==\n",
      "cat_action\n",
      "그루밍하는 동작             648\n",
      "꼬리를 흔드는 동작           389\n",
      "팔을 뻗어 휘적거리는 동작       369\n",
      "걷거나 달리는 동작           306\n",
      "옆으로 눕는 동작            217\n",
      "발을 숨기고 웅크리고 앉는 동작    184\n",
      "납작 엎드리는 동작           139\n",
      "머리를 들이대는 동작          109\n",
      "배를 보여주는 동작           107\n",
      "앞발로 꾹꾹 누르는 동작         97\n",
      "좌우로 뒹구는 동작            84\n",
      "허리를 아치로 세우는 동작        23\n",
      "Name: count, dtype: int64\n",
      "🐾 cat_action 라벨 개수: 12\n",
      "\n",
      "== cat_emotion 분포 ==\n",
      "cat_emotion\n",
      "편안/안정     1935\n",
      "행복/즐거움     495\n",
      "공격성        146\n",
      "화남/불쾌       80\n",
      "불안/공포       44\n",
      "Name: count, dtype: int64\n",
      "❤️cat_emotion 라벨 개수: 5\n",
      "\n",
      "== owner_situation 분포 ==\n",
      "owner_situation\n",
      "휴식/편안       1092\n",
      "놀이/자극        753\n",
      "기타           612\n",
      "돌아옴/재회       127\n",
      "낯선 상황/불안      62\n",
      "싫은 자극/처벌      37\n",
      "위생관리          13\n",
      "분리/고립          3\n",
      "Name: count, dtype: int64\n",
      "🏠 owner_situation 라벨 개수: 8\n",
      "\n"
     ]
    }
   ],
   "source": [
    "import pandas as pd\n",
    "\n",
    "# CSV 파일 불러오기\n",
    "df_v = pd.read_csv('./data_fin/test_dataset.csv')\n",
    "\n",
    "# meta_json 개수 (전체 파일 수)\n",
    "print(\"== meta_json 개수 (전체 파일 수) ==\")\n",
    "print(len(df_v['meta_json'].unique()))\n",
    "print()\n",
    "\n",
    "# number of frames 통계\n",
    "print(\"== number of frames 통계 ==\")\n",
    "print(df_v['number of frames'].describe())\n",
    "print()\n",
    "\n",
    "# cat_action 분포 및 유니크 개수\n",
    "print(\"== cat_action 분포 ==\")\n",
    "print(df_v['cat_action'].value_counts())\n",
    "print(f\"🐾 cat_action 라벨 개수: {df_v['cat_action'].nunique()}\")\n",
    "print()\n",
    "\n",
    "# cat_emotion 분포 및 유니크 개수\n",
    "print(\"== cat_emotion 분포 ==\")\n",
    "print(df_v['cat_emotion'].value_counts())\n",
    "print(f\"❤️cat_emotion 라벨 개수: {df_v['cat_emotion'].nunique()}\")\n",
    "print()\n",
    "\n",
    "# owner_situation 분포 및 유니크 개수\n",
    "print(\"== owner_situation 분포 ==\")\n",
    "print(df_v['owner_situation'].value_counts())\n",
    "print(f\"🏠 owner_situation 라벨 개수: {df_v['owner_situation'].nunique()}\")\n",
    "print()"
   ]
  },
  {
   "cell_type": "markdown",
   "id": "49147aa8",
   "metadata": {},
   "source": [
    "---"
   ]
  }
 ],
 "metadata": {
  "kernelspec": {
   "display_name": "dibk311",
   "language": "python",
   "name": "python3"
  },
  "language_info": {
   "codemirror_mode": {
    "name": "ipython",
    "version": 3
   },
   "file_extension": ".py",
   "mimetype": "text/x-python",
   "name": "python",
   "nbconvert_exporter": "python",
   "pygments_lexer": "ipython3",
   "version": "3.11.11"
  }
 },
 "nbformat": 4,
 "nbformat_minor": 5
}
