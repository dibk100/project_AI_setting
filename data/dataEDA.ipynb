{
 "cells": [
  {
   "cell_type": "markdown",
   "id": "513183c4",
   "metadata": {},
   "source": [
    "## AI-HUB 데이터 확인"
   ]
  },
  {
   "cell_type": "code",
   "execution_count": 1,
   "id": "64d5d68f",
   "metadata": {},
   "outputs": [
    {
     "name": "stdout",
     "output_type": "stream",
     "text": [
      "📄 총 JSON 파일 수: 21544\n",
      "🆔 유니크한 JSON 파일 이름 수: 21544\n"
     ]
    }
   ],
   "source": [
    "import os\n",
    "from glob import glob\n",
    "\n",
    "# 1. 모든 json 파일 경로 수집 (재귀적으로)\n",
    "json_paths = glob('./data_json/**/*.json', recursive=True)\n",
    "\n",
    "# 2. 파일 이름만 추출 (중복 제거용)\n",
    "json_filenames = set(os.path.basename(path) for path in json_paths)\n",
    "\n",
    "# 3. 개수 출력\n",
    "print(f\"📄 총 JSON 파일 수: {len(json_paths)}\")\n",
    "print(f\"🆔 유니크한 JSON 파일 이름 수: {len(json_filenames)}\")\n"
   ]
  },
  {
   "cell_type": "markdown",
   "id": "2efc9e96",
   "metadata": {},
   "source": [
    "### step01 : json(메타)과 실제 데이터 확인"
   ]
  },
  {
   "cell_type": "code",
   "execution_count": 2,
   "id": "ba59dbe0",
   "metadata": {},
   "outputs": [],
   "source": [
    "import json\n",
    "from glob import glob\n",
    "import os\n",
    "import pandas as pd\n",
    "\n",
    "# JSON 파일 경로 수집\n",
    "json_paths = glob(\"./data_json/**/*.json\", recursive=True)\n",
    "\n",
    "records = []\n",
    "\n",
    "for path in json_paths:\n",
    "    with open(path, 'r', encoding='utf-8') as f:\n",
    "        data = json.load(f)\n",
    "        \n",
    "        # 안전한 접근을 위한 get\n",
    "        meta = data.get('metadata', {})\n",
    "        animal = meta.get('animal', {})\n",
    "        owner = meta.get('owner', {})\n",
    "        inspect = meta.get('inspect', {})\n",
    "\n",
    "        records.append({\n",
    "            \"json_file\": os.path.basename(path),\n",
    "            \"breed\": animal.get(\"breed\"),\n",
    "            \"cat_action\": inspect.get(\"action\"),\n",
    "            \"cat_emotion\": inspect.get(\"emotion\"),\n",
    "            \"owner_situation\": owner.get(\"situation\"),\n",
    "            \"owner_emotion\": owner.get(\"emotion\"),\n",
    "            # \"seq\": meta.get(\"seq\"),\n",
    "            \"freams_anotations\" : len(data['annotations']),\n",
    "        })\n",
    "\n",
    "# DataFrame 변환\n",
    "df = pd.DataFrame(records)\n",
    "\n",
    "# 미리보기\n",
    "# print(df.head())\n"
   ]
  },
  {
   "cell_type": "code",
   "execution_count": 3,
   "id": "ba4b88d2",
   "metadata": {},
   "outputs": [
    {
     "name": "stdout",
     "output_type": "stream",
     "text": [
      "                  json_file  folder_found  frame_count_checked file_path\n",
      "0  cat-grooming-044661.json         False                    0      None\n",
      "1  cat-grooming-050955.json         False                    0      None\n",
      "2  cat-grooming-021927.json         False                    0      None\n",
      "3  cat-grooming-016894.json         False                    0      None\n",
      "4  cat-grooming-074776.json         False                    0      None\n"
     ]
    }
   ],
   "source": [
    "import os\n",
    "import pandas as pd\n",
    "from glob import glob\n",
    "\n",
    "# # 메타데이터 파일 로딩\n",
    "# df = pd.read_csv(\"your_meta_file.csv\")  # <- 실제 파일명으로 수정하세요\n",
    "\n",
    "# 루트 경로\n",
    "base_path = \"./data_image\"\n",
    "\n",
    "# 결과를 저장할 리스트\n",
    "found_list = []\n",
    "frame_count_list = []\n",
    "file_path_list = []\n",
    "\n",
    "# 각 json_file에 대해 처리\n",
    "for json_file in df['json_file']:\n",
    "    folder_name = json_file.replace(\".json\", \"\")  # → cat-grooming-XXXXX\n",
    "    found = False\n",
    "    frame_count = 0\n",
    "    found_path = None  # 폴더 경로 저장용\n",
    "\n",
    "    # data_image/*/ 하위 폴더 탐색\n",
    "    for action_dir in os.listdir(base_path):\n",
    "        action_path = os.path.join(base_path, action_dir)\n",
    "\n",
    "        # 디렉토리인지 확인\n",
    "        if not os.path.isdir(action_path):\n",
    "            continue\n",
    "\n",
    "        target_path = os.path.join(action_path, folder_name)\n",
    "        if os.path.isdir(target_path):\n",
    "            found = True\n",
    "            frame_files = glob(os.path.join(target_path, \"*.jpg\"))\n",
    "            frame_count = len(frame_files)\n",
    "            found_path = target_path  # 경로 저장\n",
    "            break  # 찾았으면 중단\n",
    "\n",
    "    found_list.append(found)\n",
    "    frame_count_list.append(frame_count)\n",
    "    file_path_list.append(found_path if found else None)\n",
    "\n",
    "# 결과 추가\n",
    "df[\"folder_found\"] = found_list\n",
    "df[\"frame_count_checked\"] = frame_count_list\n",
    "df[\"file_path\"] = file_path_list\n",
    "\n",
    "# 출력 예시\n",
    "print(df[[\"json_file\", \"folder_found\", \"frame_count_checked\", \"file_path\"]].head())"
   ]
  },
  {
   "cell_type": "code",
   "execution_count": 4,
   "id": "068e9a10",
   "metadata": {},
   "outputs": [
    {
     "name": "stdout",
     "output_type": "stream",
     "text": [
      "✅ 폴더가 존재하는 항목 (True):\n",
      "                        json_file  frame_count_checked\n",
      "5186   cat-armstretch-068412.json                   85\n",
      "5188   cat-armstretch-080026.json                   92\n",
      "5189   cat-armstretch-051047.json                   96\n",
      "5191   cat-armstretch-045006.json                   90\n",
      "5192   cat-armstretch-092848.json                   80\n",
      "...                           ...                  ...\n",
      "21533     cat-getdown-067750.json                   97\n",
      "21534     cat-getdown-038744.json                   89\n",
      "21535     cat-getdown-040368.json                   96\n",
      "21537     cat-getdown-039664.json                   99\n",
      "21539     cat-getdown-021359.json                   84\n",
      "\n",
      "[8976 rows x 2 columns]\n"
     ]
    }
   ],
   "source": [
    "df_true = df[df[\"folder_found\"] == True]\n",
    "print(\"✅ 폴더가 존재하는 항목 (True):\")\n",
    "print(df_true[[\"json_file\", \"frame_count_checked\"]])"
   ]
  },
  {
   "cell_type": "code",
   "execution_count": 5,
   "id": "80ee239d",
   "metadata": {},
   "outputs": [
    {
     "name": "stdout",
     "output_type": "stream",
     "text": [
      "❌ 폴더가 없는 항목 (False):\n",
      "                                  json_file\n",
      "0                  cat-grooming-044661.json\n",
      "1                  cat-grooming-050955.json\n",
      "2                  cat-grooming-021927.json\n",
      "3                  cat-grooming-016894.json\n",
      "4                  cat-grooming-074776.json\n",
      "...                                     ...\n",
      "21538               cat-getdown-029660.json\n",
      "21540  20201202_cat-getdown-003764.mp4.json\n",
      "21541               cat-getdown-024510.json\n",
      "21542               cat-getdown-029025.json\n",
      "21543  20201031_cat-getdown-000311.mp4.json\n",
      "\n",
      "[12568 rows x 1 columns]\n"
     ]
    }
   ],
   "source": [
    "df_false = df[df[\"folder_found\"] == False]\n",
    "print(\"❌ 폴더가 없는 항목 (False):\")\n",
    "print(df_false[[\"json_file\"]])"
   ]
  },
  {
   "cell_type": "markdown",
   "id": "522db89e",
   "metadata": {},
   "source": [
    "> 이전에 필요 없는 데이터(동영상 기준)을 삭제함.   \n",
    "> 최종적으로 8976개 데이터를 사용하는 것이 맞음"
   ]
  },
  {
   "cell_type": "code",
   "execution_count": 6,
   "id": "349c0f58",
   "metadata": {},
   "outputs": [],
   "source": [
    "# # 혹시 몰라서 추가 확인 작업\n",
    "# # 서로 다른 값이 있는 행만 필터링\n",
    "# diff_df = df[df['seq'] != df['freams_anotations']]\n",
    "\n",
    "# print(f\"seq와 freams_anotations 값이 다른 경우: {len(diff_df)}건\")\n",
    "# print(diff_df[['json_file', 'seq', 'freams_anotations']])\n",
    "\n",
    "# ## 확인해보니 다운 받을 수 있는 이미지 수는 freams_anotations에 맞춰서 확인할 수 있었음."
   ]
  },
  {
   "cell_type": "code",
   "execution_count": 7,
   "id": "1b902dcc",
   "metadata": {},
   "outputs": [],
   "source": [
    "# diff_df = df[df['owner_emotion'] != df['cat_emotion']]\n",
    "# print(f\"owner_emotion과 cat_emotion 값이 다른 경우: {len(diff_df)}건\")\n",
    "# print(diff_df[['json_file', 'owner_emotion', 'cat_emotion','owner_situation']])\n",
    "\n",
    "# # owner_emotion과 cat_emotion 값이 다른 경우: 5266건\n",
    "# # >> 꽤 많은 편.."
   ]
  },
  {
   "cell_type": "code",
   "execution_count": 8,
   "id": "2467c0c0",
   "metadata": {},
   "outputs": [],
   "source": [
    "# # frame 수가 다른 행만 필터링\n",
    "# df_mismatch = df[df[\"frame_count_checked\"] != df[\"freams_anotations\"]]\n",
    "\n",
    "# # 확인용 출력\n",
    "# print(\"⚠️ 프레임 수 불일치 항목:\")\n",
    "# print(df_mismatch[[\"json_file\", \"freams_anotations\", \"frame_count_checked\"]])\n",
    "\n",
    "# ## json에서 확인된 프레임 수와 실제 존재하는 이미지 프레임 수가 다른 경우가 7045개 있음. "
   ]
  },
  {
   "cell_type": "markdown",
   "id": "7f685501",
   "metadata": {},
   "source": [
    "---"
   ]
  },
  {
   "cell_type": "markdown",
   "id": "3705db6e",
   "metadata": {},
   "source": [
    "### step02 : 데이터 전처리하기 위해 분석\n",
    "- frame_count_checked(실제 프레임 수)를 기반으로 필요 없는 데이터 전처리하기\n",
    "- 전처리 후, 라벨 균형 확인\n",
    "   - 개별, 조합별"
   ]
  },
  {
   "cell_type": "code",
   "execution_count": 9,
   "id": "7233bd70",
   "metadata": {},
   "outputs": [
    {
     "data": {
      "text/plain": [
       "count    21544.000000\n",
       "mean        38.720897\n",
       "std         46.170389\n",
       "min          0.000000\n",
       "25%          0.000000\n",
       "50%          0.000000\n",
       "75%         89.000000\n",
       "max        110.000000\n",
       "Name: frame_count_checked, dtype: float64"
      ]
     },
     "execution_count": 9,
     "metadata": {},
     "output_type": "execute_result"
    }
   ],
   "source": [
    "df[\"frame_count_checked\"].describe()"
   ]
  },
  {
   "cell_type": "code",
   "execution_count": 10,
   "id": "99b97e7f",
   "metadata": {},
   "outputs": [
    {
     "name": "stdout",
     "output_type": "stream",
     "text": [
      "📊 남은 데이터 수: 8976\n",
      "                       json_file  frame_count_checked\n",
      "5186  cat-armstretch-068412.json                   85\n",
      "5188  cat-armstretch-080026.json                   92\n",
      "5189  cat-armstretch-051047.json                   96\n",
      "5191  cat-armstretch-045006.json                   90\n",
      "5192  cat-armstretch-092848.json                   80\n"
     ]
    }
   ],
   "source": [
    "# 기준 범위 설정\n",
    "min_len = 80\n",
    "max_len = 110\n",
    "\n",
    "# 조건: 프레임 수가 80 이상 110 이하\n",
    "df_fixed = df[(df[\"frame_count_checked\"] >= min_len) & (df[\"frame_count_checked\"] <= max_len)].copy()\n",
    "\n",
    "print(\"📊 남은 데이터 수:\", len(df_fixed))\n",
    "print(df_fixed[[\"json_file\", \"frame_count_checked\"]].head())\n"
   ]
  },
  {
   "cell_type": "code",
   "execution_count": 11,
   "id": "36d325b5",
   "metadata": {},
   "outputs": [],
   "source": [
    "# df_fixed.columns\n",
    "# ['json_file', 'breed', 'cat_action', 'cat_emotion', 'owner_situation', 'owner_emotion', 'freams_anotations', 'folder_found', 'frame_count_checked']"
   ]
  },
  {
   "cell_type": "code",
   "execution_count": 12,
   "id": "25f446e6",
   "metadata": {},
   "outputs": [
    {
     "name": "stdout",
     "output_type": "stream",
     "text": [
      "🎯 cat_action 라벨 분포:\n",
      "cat_action\n",
      "꼬리를 흔드는 동작           1947\n",
      "걷거나 달리는 동작           1410\n",
      "앞발을 뻗어 휘적거리는 동작      1174\n",
      "옆으로 눕는 동작            1059\n",
      "발을 숨기고 웅크리고 앉는 동작     942\n",
      "납작 엎드리는 동작            669\n",
      "배를 보여주는 동작            538\n",
      "머리를 들이대는 동작           472\n",
      "앞발로 꾹꾹 누르는 동작         443\n",
      "좌우로 뒹구는 동작            322\n",
      "Name: count, dtype: int64\n"
     ]
    }
   ],
   "source": [
    "print(\"🎯 cat_action 라벨 분포:\")\n",
    "print(df_fixed[\"cat_action\"].value_counts())"
   ]
  },
  {
   "cell_type": "code",
   "execution_count": 13,
   "id": "15d5fdd6",
   "metadata": {},
   "outputs": [
    {
     "name": "stdout",
     "output_type": "stream",
     "text": [
      "😊 cat_emotion 라벨 분포:\n",
      "cat_emotion\n",
      "편안/안정     6085\n",
      "행복/즐거움    1785\n",
      "공격성        592\n",
      "화남/불쾌      345\n",
      "불안/슬픔      156\n",
      "공포          13\n",
      "Name: count, dtype: int64\n"
     ]
    }
   ],
   "source": [
    "print(\"😊 cat_emotion 라벨 분포:\")\n",
    "print(df_fixed[\"cat_emotion\"].value_counts())\n",
    "\n",
    "# >> 불안/슬픔 + 공포로 라벨 합치기\n",
    "# 6개에서 5개"
   ]
  },
  {
   "cell_type": "code",
   "execution_count": 14,
   "id": "64b8cdd1",
   "metadata": {},
   "outputs": [
    {
     "name": "stdout",
     "output_type": "stream",
     "text": [
      "🏠 owner_situation 라벨 분포:\n",
      "owner_situation\n",
      "먹을것, 장난감이 앞에 있을 때                       2443\n",
      "기타                                      1961\n",
      "휴식시간, 자신만의 공간에 들어갔을 때(캔넬, 소파 침대 밑 등)    1619\n",
      "잠들기 전이나 같이 누워있을 때                        957\n",
      "편안히 쓰다듬어 줄 때                             603\n",
      "보호자가 집에 돌아왔을 때                           565\n",
      "산책이나 노즈워크 중                              242\n",
      "싫어하는 부위를 만질 때                            157\n",
      "산책 준비 또는 산책중일 때                           74\n",
      "낯선 소리가 나거나 낯선 사람을 봤을 때                    61\n",
      "밥그릇, 장난감과 같은 소유물을 만질 때                    60\n",
      "다른 사람이나 동물을 만났을 때                         52\n",
      "낯선 장소에 있거나 낯선 소리가 날 때                     48\n",
      "빗질/발톱깍기/목욕 등 위생관리를 할 때                    29\n",
      "낯선 동물 또는 사람을 만났을 때                        28\n",
      "보호자와 떨어질 때/혼자 남겨지거나 낯선장소에 있을 때            17\n",
      "낯선 소리가 났을 때                               16\n",
      "다른 동물을 보거나 낯선 사람을 만날 때 산책 나왔을 때           10\n",
      "보호자에게 혼났을 때                                8\n",
      "혼날 때                                       7\n",
      "목욕하거나 싫어하는 부위를 만질 때                        6\n",
      "낯선 도구를 자신의 몸에 사용할 때(미용도구 등)                4\n",
      "보호자와 떨어지거나 혼자 남겨졌을 때                       3\n",
      "목욕할 때                                      3\n",
      "초인종 소리가 났을 때                               1\n",
      "낯선 도구를 자신의 몸에 사용할 때(미용도구)                  1\n",
      "다른 동물을 보거나 낯선 사람을 만날 때                     1\n",
      "Name: count, dtype: int64\n"
     ]
    }
   ],
   "source": [
    "print(\"🏠 owner_situation 라벨 분포:\")\n",
    "print(df_fixed[\"owner_situation\"].value_counts())"
   ]
  },
  {
   "cell_type": "code",
   "execution_count": 15,
   "id": "2feb56e9",
   "metadata": {},
   "outputs": [
    {
     "name": "stdout",
     "output_type": "stream",
     "text": [
      "owner_situation의 유니크 라벨 수: 27\n"
     ]
    }
   ],
   "source": [
    "unique_count = df_fixed[\"owner_situation\"].nunique()\n",
    "print(\"owner_situation의 유니크 라벨 수:\", unique_count)"
   ]
  },
  {
   "cell_type": "code",
   "execution_count": 16,
   "id": "10906b49",
   "metadata": {},
   "outputs": [],
   "source": [
    "# print(\"🐱 품종(breed) 분포:\")\n",
    "# print(df_fixed[\"breed\"].value_counts())"
   ]
  },
  {
   "cell_type": "code",
   "execution_count": null,
   "id": "2a0cec5d",
   "metadata": {},
   "outputs": [
    {
     "data": {
      "image/png": "[encoded data removed]",
      "text/plain": [
       "<Figure size 1200x600 with 1 Axes>"
      ]
     },
     "metadata": {},
     "output_type": "display_data"
    }
   ],
   "source": [
    "group_counts = (\n",
    "    df_fixed.groupby([\"cat_action\", \"cat_emotion\", \"owner_situation\"])\n",
    "    .size()\n",
    "    .reset_index(name=\"count\")\n",
    "    .sort_values(by=\"count\", ascending=False)\n",
    ")\n",
    "\n",
    "# print(group_counts.head(10))  # 상위 10개 조합 출력\n",
    "\n",
    "pivot = df_fixed.pivot_table(\n",
    "    index=\"cat_action\", columns=\"cat_emotion\", values=\"json_file\", aggfunc=\"count\", fill_value=0\n",
    ")\n",
    "# print(pivot)\n",
    "\n",
    "import matplotlib.pyplot as plt\n",
    "import matplotlib.font_manager as fm\n",
    "import seaborn as sns\n",
    "import warnings\n",
    "\n",
    "# matplotlib findfont 경고 끄기\n",
    "warnings.filterwarnings(\"ignore\", category=UserWarning, module=\"matplotlib\")\n",
    "warnings.filterwarnings(\"ignore\", message=\"findfont: Font family .* not found\")\n",
    "\n",
    "# NotoSansCJK 폰트 경로 지정\n",
    "font_path = '/usr/share/fonts/opentype/noto/NotoSansCJK-Regular.ttc'\n",
    "font_prop = fm.FontProperties(fname=font_path)\n",
    "plt.rcParams['font.family'] = font_prop.get_name()\n",
    "plt.rcParams['axes.unicode_minus'] = False\n",
    "\n",
    "plt.figure(figsize=(12, 6))\n",
    "sns.barplot(\n",
    "    data=group_counts,\n",
    "    x=\"cat_action\",\n",
    "    y=\"count\",\n",
    "    hue=\"cat_emotion\"\n",
    ")\n",
    "plt.xticks(rotation=45)\n",
    "plt.title(\"조합별 (Action + Emotion) 분포\")\n",
    "plt.tight_layout()\n",
    "plt.show()\n",
    "\n"
   ]
  },
  {
   "cell_type": "markdown",
   "id": "3d3744da",
   "metadata": {},
   "source": [
    "### step03: 라벨 정리하기   \n",
    "- action : 12개 그대로\n",
    "- emotion : 6개 > 5개(불안/슬픔 + 공포로  라벨 합침)\n",
    "- situation : 27개 > 12개"
   ]
  },
  {
   "cell_type": "code",
   "execution_count": 18,
   "id": "c50c7f40",
   "metadata": {},
   "outputs": [],
   "source": [
    "# 감정 통합 맵\n",
    "emotion_map = {\n",
    "    \"불안/슬픔\": \"불안/공포\",\n",
    "    \"공포\": \"불안/공포\"\n",
    "}\n",
    "\n",
    "# 적용\n",
    "df_fixed[\"cat_emotion_fused\"] = df_fixed[\"cat_emotion\"].replace(emotion_map)\n",
    "df_fixed[\"owner_emotion_fused\"] = df_fixed[\"owner_emotion\"].replace(emotion_map)\n"
   ]
  },
  {
   "cell_type": "code",
   "execution_count": 19,
   "id": "a10c821a",
   "metadata": {},
   "outputs": [],
   "source": [
    "owner_situation_map = {\n",
    "    # 🧸 놀이/자극 상황\n",
    "    \"먹을것, 장난감이 앞에 있을 때\": \"놀이/자극\",\n",
    "    \"밥그릇, 장난감과 같은 소유물을 만질 때\": \"놀이/자극\",\n",
    "    \"산책이나 노즈워크 중\": \"놀이/자극\",\n",
    "    \"산책 준비 또는 산책중일 때\": \"놀이/자극\",\n",
    "    \"다른 동물을 보거나 낯선 사람을 만날 때 산책 나왔을 때\": \"놀이/자극\",\n",
    "\n",
    "    # 😴 휴식/편안한 상황\n",
    "    \"휴식시간, 자신만의 공간에 들어갔을 때(캔넬, 소파 침대 밑 등)\": \"휴식/편안\",\n",
    "    \"잠들기 전이나 같이 누워있을 때\": \"휴식/편안\",\n",
    "    \"편안히 쓰다듬어 줄 때\": \"휴식/편안\",\n",
    "\n",
    "    # 👋 돌아옴/재회 상황\n",
    "    \"보호자가 집에 돌아왔을 때\": \"돌아옴/재회\",\n",
    "\n",
    "    # 🧼 위생관리\n",
    "    \"빗질/발톱깍기/목욕 등 위생관리를 할 때\": \"위생관리\",\n",
    "    \"목욕할 때\": \"위생관리\",\n",
    "    \"목욕하거나 싫어하는 부위를 만질 때\": \"위생관리\",\n",
    "\n",
    "    # 😾 싫은 자극/처벌\n",
    "    \"싫어하는 부위를 만질 때\": \"싫은 자극/처벌\",\n",
    "    \"보호자에게 혼났을 때\": \"싫은 자극/처벌\",\n",
    "    \"혼날 때\": \"싫은 자극/처벌\",\n",
    "\n",
    "    # 😨 낯선 상황/불안\n",
    "    \"낯선 소리가 나거나 낯선 사람을 봤을 때\": \"낯선 상황/불안\",\n",
    "    \"낯선 장소에 있거나 낯선 소리가 날 때\": \"낯선 상황/불안\",\n",
    "    \"낯선 소리가 났을 때\": \"낯선 상황/불안\",\n",
    "    \"낯선 동물 또는 사람을 만났을 때\": \"낯선 상황/불안\",\n",
    "    \"다른 사람이나 동물을 만났을 때\": \"낯선 상황/불안\",\n",
    "    \"낯선 도구를 자신의 몸에 사용할 때(미용도구 등)\": \"낯선 상황/불안\",\n",
    "    \"낯선 도구를 자신의 몸에 사용할 때(미용도구)\": \"낯선 상황/불안\",\n",
    "    \"초인종 소리가 났을 때\": \"낯선 상황/불안\",\n",
    "    \"다른 동물을 보거나 낯선 사람을 만날 때\" : \"낯선 상황/불안\",\n",
    "\n",
    "    # 😿 분리/고립\n",
    "    \"보호자와 떨어질 때/혼자 남겨지거나 낯선장소에 있을 때\": \"분리/고립\",\n",
    "    \"보호자와 떨어지거나 혼자 남겨졌을 때\": \"분리/고립\",\n",
    "    \n",
    "    \"기타\": \"기타\",\n",
    "}\n"
   ]
  },
  {
   "cell_type": "code",
   "execution_count": 20,
   "id": "077fb9da",
   "metadata": {},
   "outputs": [
    {
     "name": "stdout",
     "output_type": "stream",
     "text": [
      "🎯 통합된 owner_situation 분포:\n",
      "owner_situation_mapped\n",
      "휴식/편안       3179\n",
      "놀이/자극       2829\n",
      "기타          1961\n",
      "돌아옴/재회       565\n",
      "낯선 상황/불안     212\n",
      "싫은 자극/처벌     172\n",
      "위생관리          38\n",
      "분리/고립         20\n",
      "Name: count, dtype: int64\n"
     ]
    }
   ],
   "source": [
    "df_fixed[\"owner_situation_mapped\"] = df_fixed[\"owner_situation\"].map(owner_situation_map)\n",
    "print(\"🎯 통합된 owner_situation 분포:\")\n",
    "print(df_fixed[\"owner_situation_mapped\"].value_counts(dropna=False))\n"
   ]
  },
  {
   "cell_type": "markdown",
   "id": "d6991e66",
   "metadata": {},
   "source": [
    "여기서 \"기타\"가 너무 많은 분포를 가짐. 노이즈가 될 수 있음.    \n",
    "> \"기타\"를 제거하지 않고 세분화하기 전략 사용함.   \n",
    ">> situation 칼럼 자체가 owner에서 가져온 것임. 그래서 owner의 emotion을 합쳐서 emotion_기타로 세분화하기로 함."
   ]
  },
  {
   "cell_type": "code",
   "execution_count": 21,
   "id": "1f32436c",
   "metadata": {},
   "outputs": [],
   "source": [
    "def fuse_situation(row):\n",
    "    if row[\"owner_situation_mapped\"] == \"기타\":\n",
    "        return f\"{row['owner_emotion_fused']}_기타\"\n",
    "    else:\n",
    "        return row[\"owner_situation_mapped\"]\n",
    "\n",
    "df_fixed[\"owner_situation_fused\"] = df_fixed.apply(fuse_situation, axis=1)"
   ]
  },
  {
   "cell_type": "code",
   "execution_count": 22,
   "id": "4674ecd3",
   "metadata": {},
   "outputs": [
    {
     "name": "stdout",
     "output_type": "stream",
     "text": [
      "🎯 다시 재정의된 owner_situation 분포:\n",
      "owner_situation_fused\n",
      "휴식/편안        3179\n",
      "놀이/자극        2829\n",
      "편안/안정_기타     1191\n",
      "행복/즐거움_기타     587\n",
      "돌아옴/재회        565\n",
      "낯선 상황/불안      212\n",
      "싫은 자극/처벌      172\n",
      "화남/불쾌_기타      102\n",
      "불안/공포_기타       49\n",
      "위생관리           38\n",
      "공격성_기타         32\n",
      "분리/고립          20\n",
      "Name: count, dtype: int64\n"
     ]
    }
   ],
   "source": [
    "print(\"🎯 다시 재정의된 owner_situation 분포:\")\n",
    "print(df_fixed[\"owner_situation_fused\"].value_counts(dropna=False))\n"
   ]
  },
  {
   "cell_type": "markdown",
   "id": "153b665e",
   "metadata": {},
   "source": [
    "## 📊 df_fixed 라벨 정리 및 균형 조정 요약   \n",
    "\n",
    "### 1. 상황 (owner_situation_fused) 라벨 정리\n",
    "\n",
    "- 기존 상황 라벨 `기타` → owner 감정과 조합해 `감정_기타` 형태로 의미 보강  \n",
    "- 클래스 불균형 존재   \n",
    "\n",
    "| 주요 클래스          | 소수 클래스(유지/보류)           | 제거 대상/통합 권장  |\n",
    "|---------------------|-------------------------------|-------------------|\n",
    "| 휴식/편안           | 화남/불쾌_기타, 불안/공포_기타    | 위생관리, 분리/고립    |\n",
    "| 놀이/자극           | 공격성_기타                    |                   |\n",
    "| 편안/안정_기타       |                               |                   |\n",
    "| 행복/즐거움_기타     |                               |                   |\n",
    "| 돌아옴/재회         |                               |                   |\n",
    "| 낯선 상황/불안       |                               |                   |\n",
    "| 싫은 자극/처벌       |                               |                   |\n",
    "   \n",
    "\n",
    "### 2. 감정 (cat_emotion_fused) 라벨\n",
    "\n",
    "- 감정 라벨 `불안/슬픔` + `공포` 통합 → `불안/공포`  \n",
    "- 총 5개 감정 라벨 유지  \n",
    "- 클래스 불균형은 **클래스 가중치 적용** 또는 소수 감정 데이터 증강 고민 가능"
   ]
  },
  {
   "cell_type": "code",
   "execution_count": 23,
   "id": "ade6afed",
   "metadata": {},
   "outputs": [
    {
     "data": {
      "text/plain": [
       "Index(['json_file', 'breed', 'cat_action', 'cat_emotion', 'owner_situation',\n",
       "       'owner_emotion', 'freams_anotations', 'folder_found',\n",
       "       'frame_count_checked', 'file_path', 'cat_emotion_fused',\n",
       "       'owner_emotion_fused', 'owner_situation_mapped',\n",
       "       'owner_situation_fused'],\n",
       "      dtype='object')"
      ]
     },
     "execution_count": 23,
     "metadata": {},
     "output_type": "execute_result"
    }
   ],
   "source": [
    "df_fixed.columns"
   ]
  },
  {
   "cell_type": "code",
   "execution_count": 24,
   "id": "90491fe9",
   "metadata": {},
   "outputs": [],
   "source": [
    "# 저장 및 기록할 칼럼 : ['json_file','file_path','frame_count_checked','cat_action','cat_emotion_fused','owner_situation_fused']"
   ]
  },
  {
   "cell_type": "code",
   "execution_count": 25,
   "id": "3a8ae32a",
   "metadata": {},
   "outputs": [],
   "source": [
    "# 사용할 칼럼 리스트\n",
    "cols = ['json_file', 'file_path', 'frame_count_checked', 'cat_action', 'cat_emotion_fused', 'owner_situation_fused']\n",
    "\n",
    "# 원하는 칼럼만 추출\n",
    "df_final = df_fixed[cols].copy()\n",
    "\n",
    "# 컬럼명 변경\n",
    "df_final.rename(columns={\n",
    "    'json_file': 'meta_json',\n",
    "    'frame_count_checked': 'number of frames',\n",
    "    'cat_emotion_fused': 'cat_emotion',\n",
    "    'owner_situation_fused': 'owner_situation'\n",
    "}, inplace=True)\n",
    "\n",
    "# CSV 저장 (경로와 파일명 원하는 대로 수정)\n",
    "# df_final.to_csv('./data/final_total_dataset.csv', index=False)\n",
    "\n",
    "# 저장 확인 출력\n",
    "# print(df_final.head())\n"
   ]
  },
  {
   "cell_type": "markdown",
   "id": "4c664534",
   "metadata": {},
   "source": [
    "### 확인용"
   ]
  },
  {
   "cell_type": "code",
   "execution_count": 26,
   "id": "c26d3813",
   "metadata": {},
   "outputs": [
    {
     "name": "stdout",
     "output_type": "stream",
     "text": [
      "== meta_json 개수 (전체 파일 수) ==\n",
      "8976\n",
      "\n",
      "== number of frames 통계 ==\n",
      "count    8976.000000\n",
      "mean       92.937054\n",
      "std         8.806401\n",
      "min        80.000000\n",
      "25%        85.000000\n",
      "50%        92.000000\n",
      "75%       100.000000\n",
      "max       110.000000\n",
      "Name: number of frames, dtype: float64\n",
      "\n",
      "== cat_action 분포 ==\n",
      "cat_action\n",
      "꼬리를 흔드는 동작           1947\n",
      "걷거나 달리는 동작           1410\n",
      "앞발을 뻗어 휘적거리는 동작      1174\n",
      "옆으로 눕는 동작            1059\n",
      "발을 숨기고 웅크리고 앉는 동작     942\n",
      "납작 엎드리는 동작            669\n",
      "배를 보여주는 동작            538\n",
      "머리를 들이대는 동작           472\n",
      "앞발로 꾹꾹 누르는 동작         443\n",
      "좌우로 뒹구는 동작            322\n",
      "Name: count, dtype: int64\n",
      "🐾 cat_action 라벨 개수: 10\n",
      "\n",
      "== cat_emotion 분포 ==\n",
      "cat_emotion\n",
      "편안/안정     6085\n",
      "행복/즐거움    1785\n",
      "공격성        592\n",
      "화남/불쾌      345\n",
      "불안/공포      169\n",
      "Name: count, dtype: int64\n",
      "❤️cat_emotion 라벨 개수: 5\n",
      "\n",
      "== owner_situation 분포 ==\n",
      "owner_situation\n",
      "휴식/편안        3179\n",
      "놀이/자극        2829\n",
      "편안/안정_기타     1191\n",
      "행복/즐거움_기타     587\n",
      "돌아옴/재회        565\n",
      "낯선 상황/불안      212\n",
      "싫은 자극/처벌      172\n",
      "화남/불쾌_기타      102\n",
      "불안/공포_기타       49\n",
      "위생관리           38\n",
      "공격성_기타         32\n",
      "분리/고립          20\n",
      "Name: count, dtype: int64\n",
      "🏠 owner_situation 라벨 개수: 12\n",
      "\n"
     ]
    }
   ],
   "source": [
    "import pandas as pd\n",
    "\n",
    "# CSV 파일 불러오기\n",
    "df = pd.read_csv('./data/final_total_dataset.csv')\n",
    "\n",
    "# meta_json 개수 (전체 파일 수)\n",
    "print(\"== meta_json 개수 (전체 파일 수) ==\")\n",
    "print(len(df['meta_json'].unique()))\n",
    "print()\n",
    "\n",
    "# number of frames 통계\n",
    "print(\"== number of frames 통계 ==\")\n",
    "print(df['number of frames'].describe())\n",
    "print()\n",
    "\n",
    "# cat_action 분포 및 유니크 개수\n",
    "print(\"== cat_action 분포 ==\")\n",
    "print(df['cat_action'].value_counts())\n",
    "print(f\"🐾 cat_action 라벨 개수: {df['cat_action'].nunique()}\")\n",
    "print()\n",
    "\n",
    "# cat_emotion 분포 및 유니크 개수\n",
    "print(\"== cat_emotion 분포 ==\")\n",
    "print(df['cat_emotion'].value_counts())\n",
    "print(f\"❤️cat_emotion 라벨 개수: {df['cat_emotion'].nunique()}\")\n",
    "print()\n",
    "\n",
    "# owner_situation 분포 및 유니크 개수\n",
    "print(\"== owner_situation 분포 ==\")\n",
    "print(df['owner_situation'].value_counts())\n",
    "print(f\"🏠 owner_situation 라벨 개수: {df['owner_situation'].nunique()}\")\n",
    "print()"
   ]
  },
  {
   "cell_type": "markdown",
   "id": "49147aa8",
   "metadata": {},
   "source": [
    "---"
   ]
  },
  {
   "cell_type": "markdown",
   "id": "87a9ef46",
   "metadata": {},
   "source": [
    "### 필요 없는 원본 데이터 삭제하기"
   ]
  },
  {
   "cell_type": "code",
   "execution_count": 27,
   "id": "99dd6b2b",
   "metadata": {},
   "outputs": [],
   "source": [
    "# import os\n",
    "# import shutil\n",
    "\n",
    "# # df_fixed의 json_file 리스트 (확장자 제거)\n",
    "# valid_folders = set(df_fixed['json_file'].str.replace('.json', ''))\n",
    "\n",
    "# base_path = './data_image'\n",
    "\n",
    "# for main_dir in os.listdir(base_path):\n",
    "#     main_path = os.path.join(base_path, main_dir)\n",
    "#     if not os.path.isdir(main_path):\n",
    "#         continue\n",
    "\n",
    "#     for folder in os.listdir(main_path):\n",
    "#         folder_path = os.path.join(main_path, folder)\n",
    "\n",
    "#         if folder not in valid_folders:\n",
    "#             # 삭제 대상\n",
    "#             print(f\"🗑️ Deleting folder: {folder_path}\")\n",
    "#             shutil.rmtree(folder_path)\n"
   ]
  }
 ],
 "metadata": {
  "kernelspec": {
   "display_name": "dibk311",
   "language": "python",
   "name": "python3"
  },
  "language_info": {
   "codemirror_mode": {
    "name": "ipython",
    "version": 3
   },
   "file_extension": ".py",
   "mimetype": "text/x-python",
   "name": "python",
   "nbconvert_exporter": "python",
   "pygments_lexer": "ipython3",
   "version": "3.11.11"
  }
 },
 "nbformat": 4,
 "nbformat_minor": 5
}
