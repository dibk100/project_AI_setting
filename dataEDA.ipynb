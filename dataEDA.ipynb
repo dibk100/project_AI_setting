{
 "cells": [
  {
   "cell_type": "markdown",
   "id": "513183c4",
   "metadata": {},
   "source": [
    "## AI-HUB 데이터 확인"
   ]
  },
  {
   "cell_type": "code",
   "execution_count": null,
   "id": "64d5d68f",
   "metadata": {},
   "outputs": [],
   "source": [
    "import os\n",
    "from glob import glob\n",
    "\n",
    "# 1. 모든 json 파일 경로 수집 (재귀적으로)\n",
    "json_paths = glob('./01_data_meta/**/*.json', recursive=True)\n",
    "\n",
    "# 2. 파일 이름만 추출 (중복 제거용)\n",
    "json_filenames = set(os.path.basename(path) for path in json_paths)\n",
    "\n",
    "# 3. 개수 출력\n",
    "print(f\"📄 총 JSON 파일 수: {len(json_paths)}\")\n",
    "print(f\"🆔 유니크한 JSON 파일 이름 수: {len(json_filenames)}\")\n"
   ]
  },
  {
   "cell_type": "markdown",
   "id": "2efc9e96",
   "metadata": {},
   "source": [
    "### 메타 정보 csv 생성"
   ]
  },
  {
   "cell_type": "code",
   "execution_count": null,
   "id": "ba59dbe0",
   "metadata": {},
   "outputs": [],
   "source": [
    "import json\n",
    "from glob import glob\n",
    "import os\n",
    "import pandas as pd\n",
    "\n",
    "# JSON 파일 경로 수집\n",
    "json_paths = glob(\"01_data_meta/**/*.json\", recursive=True)\n",
    "\n",
    "records = []\n",
    "\n",
    "for path in json_paths:\n",
    "    with open(path, 'r', encoding='utf-8') as f:\n",
    "        data = json.load(f)\n",
    "        \n",
    "        # 안전한 접근을 위한 get\n",
    "        meta = data.get('metadata', {})\n",
    "        animal = meta.get('animal', {})\n",
    "        owner = meta.get('owner', {})\n",
    "        inspect = meta.get('inspect', {})\n",
    "\n",
    "        records.append({\n",
    "            \"json_file\": os.path.basename(path),\n",
    "            \"breed\": animal.get(\"breed\"),\n",
    "            \"cat_action\": inspect.get(\"action\"),\n",
    "            \"cat_emotion\": inspect.get(\"emotion\"),\n",
    "            \"owner_situation\": owner.get(\"situation\"),\n",
    "            \"owner_emotion\": owner.get(\"emotion\"),\n",
    "            \"seq\": meta.get(\"seq\"),\n",
    "            \"freams_anotations\" : len(data['annotations']),\n",
    "        })\n",
    "\n",
    "# DataFrame 변환\n",
    "df = pd.DataFrame(records)\n",
    "\n",
    "# 미리보기\n",
    "print(df.head())\n",
    "\n",
    "# 필요 시 저장\n",
    "# df.to_csv(\"./01_data_meta/all_cat_metadata.csv\", index=False)\n"
   ]
  },
  {
   "cell_type": "code",
   "execution_count": null,
   "id": "0db49f97",
   "metadata": {},
   "outputs": [],
   "source": [
    "# 혹시 몰라서 추가 확인 작업\n",
    "# 서로 다른 값이 있는 행만 필터링\n",
    "diff_df = df[df['seq'] != df['freams_anotations']]\n",
    "\n",
    "print(f\"seq와 freams_anotations 값이 다른 경우: {len(diff_df)}건\")\n",
    "print(diff_df[['json_file', 'seq', 'freams_anotations']])\n"
   ]
  },
  {
   "cell_type": "markdown",
   "id": "3e3142cc",
   "metadata": {},
   "source": [
    "### 데이터 전처리(프레임 기준 필요없는 동영상_json 제거하기)"
   ]
  },
  {
   "cell_type": "code",
   "execution_count": null,
   "id": "abe5f45e",
   "metadata": {},
   "outputs": [],
   "source": [
    "import pandas as pd\n",
    "import matplotlib.pyplot as plt\n",
    "import seaborn as sns\n",
    "\n",
    "# CSV 파일 로드\n",
    "df = pd.read_csv(\"./01_data_meta/all_cat_metadata.csv\")\n",
    "\n",
    "# 기본 통계 정보 출력\n",
    "print(\"📊 프레임 수 통계 요약:\")\n",
    "print(df[\"freams_anotations\"].describe())\n",
    "\n",
    "# 히스토그램 시각화\n",
    "plt.figure(figsize=(10, 6))\n",
    "sns.histplot(df[\"freams_anotations\"], bins=30, kde=True, color='skyblue')\n",
    "plt.title(\"Distribution of Frame Counts per Video\")\n",
    "plt.xlabel(\"Number of Frames\")\n",
    "plt.ylabel(\"Number of Videos\")\n",
    "plt.grid(True)\n",
    "plt.show()\n"
   ]
  }
 ],
 "metadata": {
  "kernelspec": {
   "display_name": "dibk311",
   "language": "python",
   "name": "python3"
  },
  "language_info": {
   "name": "python",
   "version": "3.11.11"
  }
 },
 "nbformat": 4,
 "nbformat_minor": 5
}
